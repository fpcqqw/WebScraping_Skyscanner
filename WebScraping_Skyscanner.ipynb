{
 "cells": [
  {
   "cell_type": "code",
   "execution_count": 1,
   "metadata": {},
   "outputs": [],
   "source": [
    "from bs4 import BeautifulSoup\n",
    "import requests\n",
    "import numpy as np\n",
    "from datetime import datetime\n",
    "import os\n",
    "import pandas as pd"
   ]
  },
  {
   "cell_type": "markdown",
   "metadata": {},
   "source": [
    "## Links generieren"
   ]
  },
  {
   "cell_type": "code",
   "execution_count": 2,
   "metadata": {},
   "outputs": [],
   "source": [
    "# Zu Scrapende Flughäfen (GER), Auswahl basierend auf funktionierenden IATA Codes von https://en.wikipedia.org/wiki/List_of_airports_in_Germany\n",
    "airports_ger = ['BER', 'BRE', 'CGN', 'DTM', 'DRS', 'DUS', 'ERF', 'FRA', 'FDH', 'HHN', 'HAM', 'FKB', 'KSF', 'LEJ', 'MHG', 'FMM', 'MUC', 'FMO', 'NUE', 'PAD', 'RLG', 'SCN', 'STR', 'NRN', 'GWT']"
   ]
  },
  {
   "cell_type": "code",
   "execution_count": 3,
   "metadata": {},
   "outputs": [
    {
     "data": {
      "text/plain": [
       "['https://www.skyscanner.de/transport/fluge-von/BER/20220501/?adults=1?children=0&preferdirects=false&ref=home&rtn=0',\n",
       " 'https://www.skyscanner.de/transport/fluge-von/BER/20220502/?adults=1?children=0&preferdirects=false&ref=home&rtn=0',\n",
       " 'https://www.skyscanner.de/transport/fluge-von/BER/20220503/?adults=1?children=0&preferdirects=false&ref=home&rtn=0',\n",
       " 'https://www.skyscanner.de/transport/fluge-von/BER/20220504/?adults=1?children=0&preferdirects=false&ref=home&rtn=0',\n",
       " 'https://www.skyscanner.de/transport/fluge-von/BER/20220505/?adults=1?children=0&preferdirects=false&ref=home&rtn=0']"
      ]
     },
     "execution_count": 3,
     "metadata": {},
     "output_type": "execute_result"
    }
   ],
   "source": [
    "# Aufbau der URL\n",
    "\n",
    "# https://www.skyscanner.de/transport/fluge-von/fkb/220501/\n",
    "# ?adults=1\n",
    "# &adultsv2=1\n",
    "# &cabinclass=economy\n",
    "# &children=0\n",
    "# &childrenv2=\n",
    "# &inboundaltsenabled=false\n",
    "# &infants=0\n",
    "# &originentityid=34235660\n",
    "# &outboundaltsenabled=false\n",
    "# &preferdirects=false\n",
    "# &ref=home\n",
    "# &rtn=0\n",
    "\n",
    "adults = '1'\n",
    "children = '0'\n",
    "start_date = '2022-05-01'\n",
    "end_date = '2022-05-31'\n",
    "dep_date = [i.strftime(\"%Y%m%d\") for i in pd.date_range(start=start_date, end=end_date)]\n",
    "\n",
    "\n",
    "\n",
    "links = [] # Liste der generierten Links\n",
    "\n",
    "# Loop zum Generieren der Links für alle Tage im Mia + jeden Flughafen in DE\n",
    "for airport in airports_ger:\n",
    "    for day in dep_date:\n",
    "        url = (f\"https://www.skyscanner.de/transport/fluge-von/\" +\n",
    "            f\"{airport}/\" +\n",
    "            f\"{day}/\" + \n",
    "            f\"?adults={adults}\" +\n",
    "            f\"?children={children}\" +\n",
    "            \"&preferdirects=false&ref=home&rtn=0\")\n",
    "        links.append(url)\n",
    "\n",
    "links[:5] # Ausgabe der ersten 5 Elemente der Liste"
   ]
  },
  {
   "cell_type": "markdown",
   "metadata": {},
   "source": [
    "## Web Scraping"
   ]
  },
  {
   "cell_type": "code",
   "execution_count": 5,
   "metadata": {},
   "outputs": [
    {
     "name": "stderr",
     "output_type": "stream",
     "text": [
      "C:\\Users\\JENNY~1.HIL\\AppData\\Local\\Temp/ipykernel_24360/2730636065.py:10: DeprecationWarning: executable_path has been deprecated, please pass in a Service object\n",
      "  driver = webdriver.Chrome(\"chromedriver.exe\")\n"
     ]
    }
   ],
   "source": [
    "from selenium import webdriver\n",
    "from selenium.webdriver.support.ui import WebDriverWait \n",
    "from selenium.webdriver.support import expected_conditions\n",
    "from bs4 import BeautifulSoup\n",
    "import re\n",
    "import pandas as pd\n",
    "import numpy as np\n",
    "\n",
    "chrome_options = webdriver.ChromeOptions()\n",
    "driver = webdriver.Chrome(\"chromedriver.exe\")\n",
    "driver.implicitly_wait(20)"
   ]
  },
  {
   "cell_type": "code",
   "execution_count": 35,
   "metadata": {},
   "outputs": [
    {
     "data": {
      "text/plain": [
       "'<html class=\"bpk-no-touch-support\" lang=\"en\">\\n <head>\\n  <meta charset=\"utf-8\"/>\\n  <meta content=\"ie=edge\" http-equiv=\"x-ua-compatible\"/>\\n  <meta content=\"width=device-width,initial-scale=1,shrink-to-fit=no\" name=\"viewport\"/>\\n  <meta content=\"#000000\" name=\"theme-color\"/>\\n  <link href=\"./manifest.json\" rel=\"manifest\"/>\\n  <link href=\"./favicon.ico\" rel=\"shortcut icon\"/>\\n  <title>\\n   Skyscanner\\n  </title>\\n  <link href=\"/favicon.ico\" rel=\"icon\"/>\\n  <script async=\"\" src=\"/rf8vapwA/captcha.js?a=captcha&amp;m=0&amp;u=47af26a0-b986-11ec-99af-9f506271309b&amp;v=46151db5-b986-11ec-bd11-747654646b47\">\\n  </script>\\n  <script type=\"text/javascript\">\\n   window.__pageLoadedTime=Date.now()\\n  </script>\\n  <link href=\"./static/css/main.f2dc2e1c.css\" rel=\"stylesheet\"/>\\n  <style type=\"text/css\">\\n   .px-loader-wrapper {    display: flex;}@keyframes loadingEffect {    0% {        background-position: 0;    }    100% {        background-position: 60vw;    }}.px-inner-loading-area {    width: 310px;    height: 100px;    animation-name: loadingEffect;    animation-duration: 1.2s;    animation-iteration-count: infinite;    animation-timing-function: ease;    animation-fill-mode: forwards;    background: linear-gradient(to right, #f6f6f6 8%, #f0f0f0 18%, #f6f6f6 33%);}.px-loading-area {    width: 310px;    height: 100px;    margin: undefined;}\\n  </style>\\n  <script src=\"/rf8vapwA/init.js\">\\n  </script>\\n </head>\\n <body>\\n  <noscript>\\n   You need to enable JavaScript to run this app.\\n  </noscript>\\n  <div id=\"root\">\\n   <div class=\"App_App__ZDdkY\">\\n    <section class=\"App_App__logo__NzRmZ\">\\n     <svg alt=\"Skyscanner\" class=\"bpk-logo_bpk-logo__MzFhY bpk-logo_bpk-logo__inline__MWFkO App_App__logo__NzRmZ\" viewbox=\"0 0 910 149\" xmlns=\"http://www.w3.org/2000/svg\">\\n      <path d=\"M100.1 127c2.1 0 4.1-.5 6-1.6l21.9-12.6c4.4-2.5 9.5-3.6 14.6-3 26.6 3.1 45.2 8.1 50.7 9.7 1.1.3 2.4-.1 3.1-1 .9-1.1 2-2.9 2.9-5.5.8-2.5.9-4.6.8-6.1-.1-1.2-.9-2.3-2.1-2.6-8.6-2.5-46.7-12.8-97.9-12.8s-89.3 10.3-97.9 12.8c-1.2.3-2 1.4-2.1 2.6-.1 1.4 0 3.5.8 6.1.8 2.6 2 4.4 2.9 5.5.7.9 2 1.3 3.1 1 5.5-1.6 24.2-6.6 50.7-9.7 5.1-.6 10.2.5 14.6 3l21.9 12.6c1.9 1.1 4 1.6 6 1.6zM63.6 56.1c1.2 2.1 3.1 3.5 5.3 4.1 2.2.6 4.5.3 6.6-.9 2.1-1.2 3.5-3.1 4.1-5.3.6-2.2.3-4.5-.9-6.6L59 13.3c-.6-1.1-1.9-1.5-3.1-1.4-1.6.1-3.8.9-6.4 2.4-2.6 1.5-4.4 3-5.3 4.3-.7 1-.9 2.3-.3 3.4l19.7 34.1zm-18 24.4c2.1 1.2 4.5 1.4 6.6.9 2.2-.6 4.1-2 5.3-4.1 1.2-2.1 1.4-4.5.9-6.6-.5-2.1-2-4.1-4.1-5.3L20.2 45.7c-1.1-.6-2.4-.4-3.4.3-1.3.9-2.8 2.7-4.3 5.3-1.5 2.6-2.3 4.8-2.4 6.4-.1 1.3.4 2.5 1.4 3.1l34.1 19.7zM108.8 44c0 2.4-1 4.6-2.5 6.2-1.6 1.6-3.7 2.5-6.2 2.5-2.4 0-4.6-1-6.2-2.5-1.6-1.6-2.5-3.7-2.5-6.2V4.7c0-1.3.8-2.3 2-2.8 1.4-.7 3.7-1.1 6.7-1.1s5.3.4 6.7 1.1c1.1.6 2 1.5 2 2.8V44zm27.8 12.1c-1.2 2.1-3.1 3.5-5.3 4.1-2.2.6-4.5.3-6.6-.9-2.1-1.2-3.5-3.1-4.1-5.3-.6-2.2-.3-4.5.9-6.6l19.7-34.1c.6-1.1 1.9-1.5 3.1-1.4 1.6.1 3.8.9 6.4 2.4 2.6 1.5 4.4 3 5.3 4.3.7 1 .9 2.3.3 3.4l-19.7 34.1zm18 24.4c-2.1 1.2-4.5 1.4-6.6.9-2.2-.6-4.1-2-5.3-4.1-1.2-2.1-1.4-4.5-.9-6.6.6-2.2 2-4.1 4.1-5.3L180 45.7c1.1-.6 2.4-.4 3.4.3 1.3.9 2.8 2.7 4.3 5.3 1.5 2.6 2.3 4.8 2.4 6.4.1 1.3-.4 2.5-1.4 3.1l-34.1 19.7zm217.5-27.1h16.4c.6 0 1.1.4 1.4.9l16.3 41.8L422 54.3c.2-.6.8-.9 1.4-.9h16.1c1.1 0 1.8 1.1 1.3 2l-40 91.8c-.2.5-.8.9-1.3.9h-14.2c-1 0-1.8-1.1-1.3-2l13.7-32.1-26.8-58.6c-.6-.9.1-2 1.2-2zm242.1 9.3v-7.8c0-.8.7-1.5 1.5-1.5h14.5c.8 0 1.5.7 1.5 1.5v62.3c0 .8-.7 1.5-1.5 1.5h-14.5c-.8 0-1.5-.7-1.5-1.5V109c-3.1 4.8-9.9 11.1-21 11.1-21.2 0-32.2-16.2-32.2-34.3 0-23.6 16.4-33.7 31.7-33.7 10.1-.1 17.1 4.7 21.5 10.6zm-35.7 23.2c0 11.2 6.9 19.8 18 19.8s18.2-7.5 18.2-19-6.9-20.3-18.7-20.3c-11.1 0-17.5 8.6-17.5 19.5zm66.3 31.3V54.9c0-.8.7-1.5 1.5-1.5h14.5c.8 0 1.5.7 1.5 1.5v8.5c3.4-5.9 9.8-11.3 20.7-11.3 11.2 0 23.7 5.5 23.7 30.8v34.3c0 .8-.7 1.5-1.5 1.5h-14.5c-.8 0-1.5-.7-1.5-1.5v-34c0-6.1-1.5-16.6-12.3-16.6s-14.6 9.5-14.6 18.3v32.3c0 .8-.7 1.5-1.5 1.5h-14.5c-.9-.1-1.5-.7-1.5-1.5zm74.3 0V54.9c0-.8.7-1.5 1.5-1.5h14.5c.8 0 1.5.7 1.5 1.5v8.5c3.4-5.9 9.8-11.3 20.7-11.3 11.2 0 23.7 5.5 23.7 30.8v34.3c0 .8-.7 1.5-1.5 1.5H765c-.8 0-1.5-.7-1.5-1.5v-34c0-6.1-1.5-16.6-12.3-16.6s-14.6 9.5-14.6 18.3v32.3c0 .8-.7 1.5-1.5 1.5h-14.5c-.8-.1-1.5-.7-1.5-1.5zm152.3-63.8h14.1c.8 0 1.5.7 1.5 1.5v12.9c2.8-12.8 13.8-17.2 21.8-15.3.7.1 1.1.7 1.1 1.4v14.2c0 .9-.8 1.6-1.8 1.4-14.8-2.9-20.8 5.1-20.8 16.3v31.4c0 .8-.7 1.5-1.5 1.5h-14.5c-.8 0-1.5-.7-1.5-1.5V54.9c.1-.8.8-1.5 1.6-1.5zM276 67.6c-4.5-1.5-6.9-2.4-10.5-3.6-3.7-1.3-10-4.9-10-10.7 0-5.8 4-9.5 12.1-9.5 7.4 0 11.5 3.6 14.2 9.4.4.8 1.3 1.1 2.1.7l11.9-6.9c.6-.4.9-1.2.6-1.9-3.6-7.9-12-17.4-28.6-17.4-18.5 0-30.1 11-30.1 25.5 0 14.4 9.5 21.9 22.4 26.3 4.7 1.6 6.6 2.3 10.6 3.6 7.6 2.6 11.1 6 11.1 10.7 0 4.7-3 10.3-14.8 10.3-10.8 0-14.6-5.7-16.8-11.1-.3-.8-1.3-1.2-2.1-.7l-12.5 7.2c-.6.4-.9 1.1-.6 1.8 4.8 11.8 17.9 18.8 32.6 18.8 17.3 0 31.9-8.8 31.9-26.6s-19-24.4-23.5-25.9zm95.5 34c-.4-.7-1.4-1-2.1-.5-5.6 4.1-12.2 4.2-17.2-3.5-4.2-6.5-9.3-14.5-9.3-14.5l22-27.3c.8-1 .1-2.4-1.1-2.4h-17.2c-.5 0-.9.2-1.2.6l-19 26.1V27.6c0-.8-.7-1.5-1.5-1.5h-14.5c-.8 0-1.5.7-1.5 1.5v89.6c0 .8.7 1.5 1.5 1.5H325c.8 0 1.5-.7 1.5-1.5V88.1s9.7 15.3 13.4 21c5 7.8 12 11 19.6 11 7.2 0 11.8-1.9 17.3-7.3.5-.5.6-1.2.3-1.8l-5.6-9.4zM475.6 81c-4.6-1.7-6.2-2.3-9.7-3.6-3.5-1.3-6.6-3.2-6.6-6s2.6-5.9 7.9-5.9c4.6 0 7.4 1.8 9 5 .4.8 1.3 1 2 .6l10.2-5.9c.7-.4.9-1.3.5-2-2.8-4.9-8.3-11.1-21.6-11.1-16.3 0-24.7 9.4-24.7 19.8s8.5 15.3 16.3 18.4c8.8 3.6 9.4 3.8 10.5 4.2 2.7 1.1 6 2.8 6 5.9 0 3.1-3.6 5.9-9.1 5.9-5.1 0-10.9-2.1-13.3-8-.3-.8-1.3-1.2-2.1-.7l-10.3 5.9c-.6.4-.9 1.1-.6 1.8 3 7.8 11.9 14.7 26.3 14.7 15.6 0 26-8.3 26-20s-8-15.8-16.7-19zm58.6-13.4c6.5 0 11.3 2 15.8 5.2.7.5 1.7.3 2.1-.4l6-10.4c.4-.7.2-1.5-.5-1.9-6.2-4.2-13.9-8.1-24.3-8.1-10.3 0-19.8 2.8-26.6 9.7-6.8 6.8-9.9 14.9-9.9 24.5 0 11.6 4.8 19 10 24.2 5.2 5.2 14.6 9.6 26.6 9.6 10.8 0 18.8-4.5 24.3-8.1.6-.4.8-1.3.4-1.9l-5.9-10.3c-.4-.7-1.4-1-2.1-.5-3.9 2.8-9.5 5.2-15.8 5.2-7.1 0-20-4-20-18.4 0-14.4 12.8-18.4 19.9-18.4zm294.2 38c-5.8 0-11.3-1.4-15.3-4.6-4-3.2-5.9-6.5-5.9-10.4H859c.8 0 1.5-.7 1.5-1.5-.3-15.4-5.3-22.6-10.1-27.5-5-5-13.5-9.6-24.7-9.6s-19.8 4.1-25.7 9.9c-5.8 5.8-10.2 13.2-10.2 24.4s4.5 18.6 10 24.1 14.5 9.6 27.4 9.6c12.2 0 22.5-4.3 29.9-12.8.6-.7.4-1.8-.4-2.2l-10.3-6c-.5-.3-1.2-.3-1.7.2-5.1 4.8-11.6 6.4-16.3 6.4zM825.6 66c8.3 0 15.9 5 17.1 14h-34.9c2.3-9.7 9.5-14 17.8-14z\">\\n      </path>\\n     </svg>\\n    </section>\\n    <section class=\"App_App__headline__MTE3M\">\\n     Bist du ein Mensch oder ein Roboter?\\n    </section>\\n    <section class=\"App_App__image__NjRhZ\">\\n     <div class=\"UNKNOWN\">\\n      <div class=\"BpkImage_bpk-image__NmEzO BpkImage_bpk-image--no-background__YTNlY\" style=\"height: 0px; padding-bottom: 52.8169%;\">\\n       <img alt=\"\" class=\"BpkImage_bpk-image__img__ZTY5M\" src=\"captcha-01.svg\"/>\\n      </div>\\n     </div>\\n    </section>\\n    <section class=\"App_App__message__YmE5M\">\\n     Nimm das bitte nicht persönlich – einige Skripts und Bots sind heutzutage bemerkenswert lebensecht!\\n    </section>\\n    <section class=\"App_App__captcha__ZTE2M\">\\n     <div id=\"px-captcha\">\\n      <div class=\"px-loader-wrapper\" id=\"px-loader\">\\n       <div class=\"px-loading-area\" style=\"margin: auto;\">\\n        <div class=\"px-inner-loading-area\">\\n        </div>\\n       </div>\\n      </div>\\n     </div>\\n    </section>\\n    <section class=\"App_App__resolve__MjdkM\">\\n     Du kannst immer noch nicht auf die Seite zugreifen? Bitte überprüfe, ob du JavaScript und Cookies eingeschaltet hast und stelle sicher, dass dein Browser den Ladevorgang nicht unterdrückt.\\n    </section>\\n    <section class=\"App_App__identifier__NjJiM\">\\n     47af26a0-b986-11ec-99af-9f506271309b\\n    </section>\\n   </div>\\n  </div>\\n  <script src=\"./static/js/main.3ee24ffb.js\">\\n  </script>\\n </body>\\n</html>'"
      ]
     },
     "execution_count": 35,
     "metadata": {},
     "output_type": "execute_result"
    }
   ],
   "source": [
    "driver.get(links[0])\n",
    "\n",
    "soup=BeautifulSoup(driver.page_source, 'lxml')\n",
    "soup.prettify()"
   ]
  },
  {
   "cell_type": "code",
   "execution_count": 36,
   "metadata": {},
   "outputs": [
    {
     "name": "stdout",
     "output_type": "stream",
     "text": [
      "[] []\n"
     ]
    }
   ],
   "source": [
    "country = soup.find_all('div', attrs={'class': 'browse-data-route'})\n",
    "prices = soup.find_all('p', attrs={'class': 'route-price'})\n",
    "print(country, prices)"
   ]
  },
  {
   "cell_type": "code",
   "execution_count": 12,
   "metadata": {},
   "outputs": [
    {
     "name": "stdout",
     "output_type": "stream",
     "text": [
      "<!DOCTYPE html>\n",
      "<html lang=\"en\">\n",
      " <head>\n",
      "  <meta charset=\"utf-8\"/>\n",
      "  <meta content=\"ie=edge\" http-equiv=\"x-ua-compatible\"/>\n",
      "  <meta content=\"width=device-width,initial-scale=1,shrink-to-fit=no\" name=\"viewport\"/>\n",
      "  <meta content=\"#000000\" name=\"theme-color\"/>\n",
      "  <link href=\"./manifest.json\" rel=\"manifest\"/>\n",
      "  <link href=\"./favicon.ico\" rel=\"shortcut icon\"/>\n",
      "  <title>\n",
      "   Skyscanner\n",
      "  </title>\n",
      "  <link href=\"/favicon.ico\" rel=\"icon\"/>\n",
      "  <script type=\"text/javascript\">\n",
      "   window.__pageLoadedTime=Date.now()\n",
      "  </script>\n",
      "  <link href=\"./static/css/main.f2dc2e1c.css\" rel=\"stylesheet\"/>\n",
      " </head>\n",
      " <body>\n",
      "  <noscript>\n",
      "   You need to enable JavaScript to run this app.\n",
      "  </noscript>\n",
      "  <div id=\"root\">\n",
      "  </div>\n",
      "  <script src=\"./static/js/main.3ee24ffb.js\">\n",
      "  </script>\n",
      " </body>\n",
      "</html>\n"
     ]
    }
   ],
   "source": [
    "#pages = [requests.get(links[i]) for i in range(links)]\n",
    "#soups = [BeautifulSoup(pages[page].content, 'html.parser') for page in range(pages)]\n",
    "\n",
    "teste = 'https://www.skyscanner.de/transport/fluge-von/fkb/220501/?adults=1&adultsv2=1&cabinclass=economy&children=0&childrenv2=&inboundaltsenabled=false&infants=0&originentityid=34235660&outboundaltsenabled=false&preferdirects=false&ref=home&rtn=0'\n",
    "\n",
    "page = requests.get(teste).text\n",
    "soup = BeautifulSoup(page, 'html.parser') \n",
    "soup = soup.prettify()\n",
    "#table = soup.find_all('div', id_='browse-section', class_='browse-content svg-supported')\n",
    "print(soup)\n",
    "# result-list nav-content"
   ]
  },
  {
   "cell_type": "code",
   "execution_count": null,
   "metadata": {},
   "outputs": [],
   "source": []
  }
 ],
 "metadata": {
  "interpreter": {
   "hash": "eaa6db7692676cfa9e82e2a037ce2438bb1f7f03eb43cff263f5c476efc4fb36"
  },
  "kernelspec": {
   "display_name": "Python 3.9.7 ('project')",
   "language": "python",
   "name": "python3"
  },
  "language_info": {
   "codemirror_mode": {
    "name": "ipython",
    "version": 3
   },
   "file_extension": ".py",
   "mimetype": "text/x-python",
   "name": "python",
   "nbconvert_exporter": "python",
   "pygments_lexer": "ipython3",
   "version": "3.9.7"
  },
  "orig_nbformat": 4
 },
 "nbformat": 4,
 "nbformat_minor": 2
}
